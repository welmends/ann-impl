{
 "cells": [
  {
   "cell_type": "markdown",
   "source": [
    "## Import packages"
   ],
   "metadata": {
    "tags": []
   }
  },
  {
   "cell_type": "code",
   "execution_count": 1,
   "source": [
    "import numpy as np\n",
    "import numpy.matlib as npm\n",
    "import matplotlib.pyplot as plt\n",
    "import scipy.linalg\n",
    "import scipy.stats\n",
    "import time\n",
    "import os"
   ],
   "outputs": [],
   "metadata": {}
  },
  {
   "cell_type": "markdown",
   "source": [
    "## Dataset"
   ],
   "metadata": {}
  },
  {
   "cell_type": "markdown",
   "source": [
    "### Load dataset (Mushuroom)"
   ],
   "metadata": {
    "tags": []
   }
  },
  {
   "cell_type": "code",
   "execution_count": 2,
   "source": [
    "data = np.loadtxt('mushroom_dataset/agaricus-lepiota.data', delimiter=',', dtype=str) # load\n",
    "attr = [{val: int(cnt) for cnt, val in enumerate(list(set(data[:,i])))} for i in range(len(data[0,:]))] # dict mapping\n",
    "data = np.array([np.array([attr[i][e] for e in data[:,i]]) for i in range(len(data[0,:]))]).T # swap str to int"
   ],
   "outputs": [],
   "metadata": {}
  },
  {
   "cell_type": "markdown",
   "source": [
    "### Data preparation (Check columns)"
   ],
   "metadata": {}
  },
  {
   "cell_type": "code",
   "execution_count": 3,
   "source": [
    "cols = [i for i,e in enumerate(attr) if len(e)==1]\n",
    "for col in cols:\n",
    "    data = np.delete(data, col, axis=1)"
   ],
   "outputs": [],
   "metadata": {}
  },
  {
   "cell_type": "markdown",
   "source": [
    "### Standardize or Normalize dataset"
   ],
   "metadata": {}
  },
  {
   "cell_type": "code",
   "execution_count": 4,
   "source": [
    "data_attr = data[:,:-1]\n",
    "\n",
    "### Standardization: (d - mean ) / std        [For each column]\n",
    "data[:,:-1] = (data_attr - np.mean(data_attr, axis=0)) / np.std(data_attr, axis=0)\n",
    "\n",
    "### Normalization  : (d - min) / (max - min)  [For each column]\n",
    "# data[:,:-1] = ( data_attr - np.min(data_attr, axis=0) ) / ( np.max(data_attr, axis=0) - np.min(data_attr, axis=0) )"
   ],
   "outputs": [],
   "metadata": {}
  },
  {
   "cell_type": "markdown",
   "source": [
    "## Classifiers"
   ],
   "metadata": {}
  },
  {
   "cell_type": "markdown",
   "source": [
    "### LMQ - Linear dos Mínimos Quadrados"
   ],
   "metadata": {
    "jp-MarkdownHeadingCollapsed": true,
    "tags": []
   }
  },
  {
   "cell_type": "code",
   "execution_count": 5,
   "source": [
    "def LMQ_classifier(data, n_runs=100, p_train=0.8, silent=False, plot=True):\n",
    "    # Variables\n",
    "    name = 'LMQ'\n",
    "    desc = 'Linear dos Mínimos Quadrados (LMQ)'\n",
    "    if silent==False:\n",
    "        print('> {}'.format(desc))\n",
    "\n",
    "    # General variables\n",
    "    N_samples = len(data)\n",
    "    N_attribs = len(data[0])-1\n",
    "    N_train   = round(p_train*N_samples)\n",
    "    N_test    = N_samples-N_train\n",
    "    K         = int(np.max(data[:,-1]))\n",
    "    rates     = np.array([]) # Accuracys\n",
    "    t_train   = np.array([]) # Train Times\n",
    "    t_test    = np.array([]) # Test Times\n",
    "    confusion = np.zeros((K,K))\n",
    "    stats     = {}\n",
    "    if silent==False:\n",
    "        print('> The problem has {} classes'.format(K))\n",
    "    \n",
    "    # Loop of independent runs\n",
    "    for loop in range(1, n_runs+1):\n",
    "        ### Train phase\n",
    "\n",
    "        # Begin train time\n",
    "        t_train = np.append(t_train, time.time())\n",
    "\n",
    "        # Shuffle rows of the data matrix\n",
    "        np.random.shuffle(data)\n",
    "\n",
    "        # Split into training and tests subsets\n",
    "        data_train = data[:N_train]\n",
    "        data_test  = data[N_train:]\n",
    "\n",
    "        # Partition of training data into attributes and label\n",
    "        X_train = data_train[:,:-1]\n",
    "        Y_train = data_train[:,-1]\n",
    "\n",
    "        # Routine to convert numerical labels into binary (1-out-of-K) labels\n",
    "        labels_train = np.zeros((N_train, K))\n",
    "        labels = np.eye(K)\n",
    "        for k in range(1,K+1):\n",
    "            yK = np.where(Y_train[:] == k)\n",
    "            labels_train[yK,:] = npm.repmat(labels[k-1,:], len(yK), 1)\n",
    "        \n",
    "        # Compute the weight matrix (N_attribs, N_samples)x(N_samples, N_labels) = (N_attribs, N_labels)\n",
    "        W = np.matmul(np.linalg.pinv(X_train), labels_train)\n",
    "\n",
    "        # End train time\n",
    "        t_train[-1] = time.time() - t_train[-1]\n",
    "\n",
    "        ### Testing phase\n",
    "        # Begin test time\n",
    "        t_test = np.append(t_test, time.time())\n",
    "        correct = 0\n",
    "        for i in range(0,N_test):\n",
    "            X_test = data_test[i,:-1] # Test sample to be classified\n",
    "            label_test = int(data_test[i,-1]) # Actual label of the test sample\n",
    "            # Predict the output label (1, N_attribs) x (N_attribs, N_labels) = (1, N_labels)\n",
    "            prediction = np.matmul(X_test, W)\n",
    "            prediction_label = np.where( prediction==max(prediction) )[0][0] + 1\n",
    "            if prediction_label==label_test:\n",
    "                correct+=1 # hit\n",
    "            confusion[prediction_label-1,label_test-1]+=1 # predicted x ground truth\n",
    "        \n",
    "        # End test time\n",
    "        t_test[-1] = time.time() - t_test[-1]\n",
    "\n",
    "        # Recognition rate of r-th run\n",
    "        rates = np.append(rates, correct*100/N_test)\n",
    "    \n",
    "    ### Statistics\n",
    "    # Get stats for each class\n",
    "    def get_stats_each_class(confusion_matrix):\n",
    "        stats_class = np.array([])\n",
    "        lb = 0\n",
    "        for lb in range(K):\n",
    "            TP = confusion[lb,lb]\n",
    "            FP = np.sum(confusion[lb,:])-confusion[lb,lb]\n",
    "            FN = np.sum(confusion[:,lb])-confusion[lb,lb]\n",
    "            TN = np.sum(confusion) - TP - FP - FN\n",
    "            acc = (TP+TN)/(TP+TN+FP+FN)\n",
    "            f1_score = 2*TP/(2*TP+FP+FN)\n",
    "            stats_class = np.append(stats_class, {'acc': acc, 'f1_score': f1_score})\n",
    "        return stats_class\n",
    "\n",
    "    # Get geral stats\n",
    "    stats['name']        = name\n",
    "    stats['mean']        = np.mean(rates)\n",
    "    stats['std']         = np.std(rates)\n",
    "    stats['median']      = np.median(rates)\n",
    "    stats['min']         = np.min(rates)\n",
    "    stats['max']         = np.max(rates)\n",
    "    stats['confusion']   = confusion\n",
    "    stats['stats_class'] = get_stats_each_class(confusion)\n",
    "    stats['t_train']     = np.max(t_train)*1000 # milliseconds\n",
    "    stats['t_test']      = np.max(t_test)*1000  # milliseconds\n",
    "\n",
    "    if silent==False:\n",
    "        stats_msg = 'mean±std: {:.2f}±{:.2f} ||| median: {:.2f} ||| [min,max]: [{:.2f},{:.2f}]'.format(stats['mean'],stats['std'],stats['median'],stats['min'],stats['max'])\n",
    "        print(stats_msg)\n",
    "        if plot:\n",
    "            plt.boxplot(rates)\n",
    "            plt.suptitle('{}\\n{} rounds'.format(desc, n_runs))\n",
    "            plt.xlabel(stats_msg)\n",
    "            plt.show()\n",
    "\n",
    "    return stats"
   ],
   "outputs": [],
   "metadata": {}
  },
  {
   "cell_type": "markdown",
   "source": [
    "### AD - Adaline"
   ],
   "metadata": {}
  },
  {
   "cell_type": "code",
   "execution_count": 6,
   "source": [
    "def AD_classifier(data, n_runs=100, n_epochs=10, l_rate=0.01, p_train=0.8, silent=False, plot=True):\n",
    "    # Variables\n",
    "    name = 'AD'\n",
    "    desc = 'Adaline (AD)'\n",
    "    if silent==False:\n",
    "        print('> {}'.format(desc))"
   ],
   "outputs": [],
   "metadata": {}
  },
  {
   "cell_type": "markdown",
   "source": [
    "### PL - Perceptron Logístico"
   ],
   "metadata": {
    "tags": []
   }
  },
  {
   "cell_type": "code",
   "execution_count": 7,
   "source": [
    "def PL_classifier(data, n_runs=100, n_epochs=10, l_rate=0.01, p_train=0.8, silent=False, plot=True):\n",
    "    # Variables\n",
    "    name = 'PL'\n",
    "    desc = 'Perceptron Logistico (PL)'\n",
    "    if silent==False:\n",
    "        print('> {}'.format(desc))"
   ],
   "outputs": [],
   "metadata": {}
  },
  {
   "cell_type": "markdown",
   "source": [
    "### MLP - Multi-Layer Perceptron"
   ],
   "metadata": {}
  },
  {
   "cell_type": "code",
   "execution_count": 8,
   "source": [
    "def MLP_classifier(data, n_runs=100, n_epochs=10, l_rate=0.01, p_train=0.8, silent=False, plot=True):\n",
    "    # Variables\n",
    "    name = 'MLP'\n",
    "    desc = 'Multi-Layer Perceptron (MLP)'\n",
    "    if silent==False:\n",
    "        print('> {}'.format(desc))"
   ],
   "outputs": [],
   "metadata": {}
  },
  {
   "cell_type": "markdown",
   "source": [
    "## Experiments"
   ],
   "metadata": {
    "jp-MarkdownHeadingCollapsed": true,
    "tags": []
   }
  },
  {
   "cell_type": "code",
   "execution_count": 9,
   "source": [
    "LMQ_classifier(data)\n",
    "AD_classifier(data)\n",
    "PL_classifier(data)\n",
    "MLP_classifier(data)"
   ],
   "outputs": [
    {
     "output_type": "stream",
     "name": "stdout",
     "text": [
      "> Linear dos Mínimos Quadrados (LMQ)\n",
      "> The problem has 6 classes\n",
      "mean±std: 38.61±0.99 ||| median: 38.74 ||| [min,max]: [36.49,40.80]\n"
     ]
    },
    {
     "output_type": "display_data",
     "data": {
      "image/png": "[encoded data removed]",
      "text/plain": [
       "<Figure size 432x288 with 1 Axes>"
      ]
     },
     "metadata": {
      "needs_background": "light"
     }
    },
    {
     "output_type": "stream",
     "name": "stdout",
     "text": [
      "> Adaline (AD)\n",
      "> Perceptron Logistico (PL)\n",
      "> Multi-Layer Perceptron (MLP)\n"
     ]
    }
   ],
   "metadata": {}
  }
 ],
 "metadata": {
  "kernelspec": {
   "name": "python3",
   "display_name": "Python 3.9.7 64-bit ('.env': venv)"
  },
  "language_info": {
   "codemirror_mode": {
    "name": "ipython",
    "version": 3
   },
   "file_extension": ".py",
   "mimetype": "text/x-python",
   "name": "python",
   "nbconvert_exporter": "python",
   "pygments_lexer": "ipython3",
   "version": "3.9.7"
  },
  "interpreter": {
   "hash": "2fe2b7eb837201f85a3d869f17b1dad2aac96e56aa1cf0b8e1defe7913ff5e0b"
  }
 },
 "nbformat": 4,
 "nbformat_minor": 5
}
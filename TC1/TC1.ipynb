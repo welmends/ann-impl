{
 "cells": [
  {
   "cell_type": "markdown",
   "source": [
    "## Import packages"
   ],
   "metadata": {
    "tags": []
   }
  },
  {
   "cell_type": "code",
   "execution_count": 65,
   "source": [
    "import numpy as np\n",
    "import numpy.matlib as npm\n",
    "import matplotlib.pyplot as plt\n",
    "import scipy.linalg\n",
    "import scipy.stats\n",
    "import time\n",
    "import os"
   ],
   "outputs": [],
   "metadata": {}
  },
  {
   "cell_type": "markdown",
   "source": [
    "## Dataset"
   ],
   "metadata": {}
  },
  {
   "cell_type": "markdown",
   "source": [
    "### Mushroom dataset"
   ],
   "metadata": {
    "tags": []
   }
  },
  {
   "cell_type": "code",
   "execution_count": 69,
   "source": [
    "# Loading dataset (mushroom)\n",
    "data = np.loadtxt('mushroom_dataset/agaricus-lepiota.data', delimiter=',', dtype=str) # load\n",
    "attr = [{val: int(cnt) for cnt, val in enumerate(list(set(data[:,i])))} for i in range(len(data[0,:]))] # dict mapping\n",
    "data = np.array([np.array([attr[i][e] for e in data[:,i]]) for i in range(len(data[0,:]))]).T # swap str to int\n",
    "\n",
    "# Data preparation (Check columns)\n",
    "cols = [i for i,e in enumerate(attr) if len(e)==1]\n",
    "for col in cols:\n",
    "    data = np.delete(data, col, axis=1)\n",
    "\n",
    "# .ARFF save\n",
    "with open('xor.arff', 'w') as f:\n",
    "    f.write('@RELATION or\\n')\n",
    "    f.write('\\n')\n",
    "    f.write('@ATTRIBUTE x REAL\\n')\n",
    "    f.write('@ATTRIBUTE y REAL\\n')\n",
    "    f.write('@ATTRIBUTE class {1.0,0.0}\\n')\n",
    "    f.write('\\n')\n",
    "    f.write('@DATA\\n')\n",
    "    for d in data:\n",
    "        f.write(','.join(d.astype(str)))\n",
    "        f.write('\\n')"
   ],
   "outputs": [],
   "metadata": {}
  },
  {
   "cell_type": "markdown",
   "source": [
    "### Xor dataset"
   ],
   "metadata": {}
  },
  {
   "cell_type": "code",
   "execution_count": 85,
   "source": [
    "data = np.hstack( (np.loadtxt('xor_input.txt', dtype=float).T, np.loadtxt('x_or_target.txt', dtype=float).T.reshape(1000,1)) )\n",
    "\n",
    "# with open('xor.arff', 'w') as f:\n",
    "#     f.write('@RELATION or\\n')\n",
    "#     f.write('\\n')\n",
    "#     f.write('@ATTRIBUTE x REAL\\n')\n",
    "#     f.write('@ATTRIBUTE y REAL\\n')\n",
    "#     f.write('@ATTRIBUTE class {1.0,0.0}\\n')\n",
    "#     f.write('\\n')\n",
    "#     f.write('@DATA\\n')\n",
    "#     for d in data:\n",
    "#         f.write(','.join(d.astype(str)))\n",
    "#         f.write('\\n')\n",
    "\n",
    "for lb in set(data[:,2]):\n",
    "    cond = np.where(data[:,2]==lb)\n",
    "    plt.scatter(data[cond][:,0],data[cond][:,1])"
   ],
   "outputs": [
    {
     "output_type": "display_data",
     "data": {
      "image/png": "[encoded data removed]",
      "text/plain": [
       "<Figure size 432x288 with 1 Axes>"
      ]
     },
     "metadata": {
      "needs_background": "light"
     }
    }
   ],
   "metadata": {}
  },
  {
   "cell_type": "markdown",
   "source": [
    "### Standardize or Normalize dataset"
   ],
   "metadata": {}
  },
  {
   "cell_type": "code",
   "execution_count": 71,
   "source": [
    "data_attr = data[:,:-1]\n",
    "\n",
    "### Standardization: (d - mean ) / std        [For each column]\n",
    "data[:,:-1] = (data_attr - np.mean(data_attr, axis=0)) / np.std(data_attr, axis=0)\n",
    "\n",
    "### Normalization  : (d - min) / (max - min)  [For each column]\n",
    "# data[:,:-1] = ( data_attr - np.min(data_attr, axis=0) ) / ( np.max(data_attr, axis=0) - np.min(data_attr, axis=0) )\n",
    "\n",
    "### Sum 1 to the last column (labels)\n",
    "data[:,-1]+=1"
   ],
   "outputs": [],
   "metadata": {}
  },
  {
   "cell_type": "markdown",
   "source": [
    "## Classifiers"
   ],
   "metadata": {}
  },
  {
   "cell_type": "markdown",
   "source": [
    "### LMQ - Linear dos Mínimos Quadrados"
   ],
   "metadata": {
    "jp-MarkdownHeadingCollapsed": true,
    "tags": []
   }
  },
  {
   "cell_type": "code",
   "execution_count": 48,
   "source": [
    "def LMQ_classifier(data, n_runs=100, p_train=0.8, silent=False, plot=True):\n",
    "    # Variables\n",
    "    name = 'LMQ'\n",
    "    desc = 'Linear dos Mínimos Quadrados (LMQ)'\n",
    "    if silent==False:\n",
    "        print('> {}'.format(desc))\n",
    "\n",
    "    # General variables\n",
    "    N_samples = len(data)\n",
    "    N_attribs = len(data[0])-1\n",
    "    N_train   = round(p_train*N_samples)\n",
    "    N_test    = N_samples-N_train\n",
    "    K         = int(np.max(data[:,-1]))\n",
    "    rates     = np.array([]) # Accuracys\n",
    "    confusion = np.zeros((K,K))\n",
    "    stats     = {}\n",
    "    if silent==False:\n",
    "        print('> The problem has {} classes'.format(K))\n",
    "    \n",
    "    # Loop of independent runs\n",
    "    for loop in range(1, n_runs+1):\n",
    "        ### Data preparation\n",
    "        # Shuffle rows of the data matrix\n",
    "        np.random.shuffle(data)\n",
    "\n",
    "        # Split into training and tests subsets\n",
    "        data_train = data[:N_train]\n",
    "        data_test  = data[N_train:]\n",
    "\n",
    "        # Partition of training data into attributes and label\n",
    "        X_train = data_train[:,:-1]\n",
    "        Y_train = data_train[:,-1]\n",
    "\n",
    "        ### Training\n",
    "        # Routine to convert numerical labels into binary (1-out-of-K) labels\n",
    "        labels_train = np.zeros((N_train, K))\n",
    "        labels = np.eye(K)\n",
    "        for k in range(1,K+1):\n",
    "            yK = np.where(Y_train[:] == k)\n",
    "            labels_train[yK,:] = npm.repmat(labels[k-1,:], len(yK), 1)\n",
    "        \n",
    "        # Compute the weight matrix (N_attribs, N_samples)x(N_samples, N_labels) = (N_attribs, N_labels)\n",
    "        W = np.matmul(np.linalg.pinv(X_train), labels_train)\n",
    "\n",
    "        ### Testing\n",
    "        # Begin test time\n",
    "        correct = 0\n",
    "        for i in range(0,N_test):\n",
    "            X_test = data_test[i,:-1] # Test sample to be classified\n",
    "            label_test = int(data_test[i,-1]) # Actual label of the test sample\n",
    "            # Predict the output label (1, N_attribs) x (N_attribs, N_labels) = (1, N_labels)\n",
    "            prediction = np.matmul(X_test, W)\n",
    "            prediction_label = np.where( prediction==max(prediction) )[0][0] + 1\n",
    "            if prediction_label==label_test:\n",
    "                correct+=1 # hit\n",
    "            confusion[prediction_label-1,label_test-1]+=1 # predicted x ground truth\n",
    "\n",
    "        # Recognition rate of r-th run\n",
    "        rates = np.append(rates, correct*100/N_test)\n",
    "    \n",
    "    ### Statistics\n",
    "    # Get stats for each class\n",
    "    def get_stats_each_class(confusion_matrix):\n",
    "        stats_class = np.array([])\n",
    "        lb = 0\n",
    "        for lb in range(K):\n",
    "            TP = confusion[lb,lb]\n",
    "            FP = np.sum(confusion[lb,:])-confusion[lb,lb]\n",
    "            FN = np.sum(confusion[:,lb])-confusion[lb,lb]\n",
    "            TN = np.sum(confusion) - TP - FP - FN\n",
    "            acc = (TP+TN)/(TP+TN+FP+FN)\n",
    "            f1_score = 2*TP/(2*TP+FP+FN)\n",
    "            stats_class = np.append(stats_class, {'acc': acc, 'f1_score': f1_score})\n",
    "        return stats_class\n",
    "\n",
    "    # Get geral stats\n",
    "    stats['name']        = name\n",
    "    stats['mean']        = np.mean(rates)\n",
    "    stats['std']         = np.std(rates)\n",
    "    stats['median']      = np.median(rates)\n",
    "    stats['min']         = np.min(rates)\n",
    "    stats['max']         = np.max(rates)\n",
    "    stats['confusion']   = confusion\n",
    "    stats['stats_class'] = get_stats_each_class(confusion)\n",
    "\n",
    "    if silent==False:\n",
    "        stats_msg = 'mean±std: {:.2f}±{:.2f} ||| median: {:.2f} ||| [min,max]: [{:.2f},{:.2f}]'.format(stats['mean'],stats['std'],stats['median'],stats['min'],stats['max'])\n",
    "        print(stats_msg)\n",
    "        if plot:\n",
    "            plt.boxplot(rates)\n",
    "            plt.suptitle('{}\\n{} rounds'.format(desc, n_runs))\n",
    "            plt.xlabel(stats_msg)\n",
    "            plt.show()\n",
    "\n",
    "    return stats"
   ],
   "outputs": [],
   "metadata": {}
  },
  {
   "cell_type": "markdown",
   "source": [
    "### AD - Adaline"
   ],
   "metadata": {}
  },
  {
   "cell_type": "code",
   "execution_count": 73,
   "source": [
    "def AD_classifier(data, n_runs=10, n_epochs=10, output_neurons=1, l_rate=0.01, p_train=0.8, silent=False, plot=True):\n",
    "    # Variables\n",
    "    name = 'AD'\n",
    "    desc = 'Adaline (AD)'\n",
    "    if silent==False:\n",
    "        print('> {}'.format(desc))\n",
    "\n",
    "    # General variables\n",
    "    N_samples = len(data)\n",
    "    N_attribs = len(data[0])-1\n",
    "    N_train   = round(p_train*N_samples)\n",
    "    N_test    = N_samples-N_train\n",
    "    K         = int(np.max(data[:,-1]))\n",
    "    rates     = np.array([]) # Accuracys\n",
    "    confusion = np.zeros((K,K))\n",
    "    stats     = {}\n",
    "    if silent==False:\n",
    "        print('> The problem has {} classes'.format(K))\n",
    "    \n",
    "    # Loop of independent runs\n",
    "    for loop in range(1, n_runs+1):\n",
    "        print('loop {}'.format(loop))\n",
    "        ### Data preparation\n",
    "        # Shuffle rows of the data matrix\n",
    "        np.random.shuffle(data)\n",
    "\n",
    "        # Split into training and tests subsets\n",
    "        data_train = data[:N_train]\n",
    "        data_test  = data[N_train:]\n",
    "\n",
    "        # Weights matrix (random init)\n",
    "        WW = 0.1*np.random.random((output_neurons, data_train.shape[1]))\n",
    "        squared_error_epochs = []\n",
    "\n",
    "        ### Training\n",
    "        for epoch in range(1, n_epochs):\n",
    "            print('Epoch: {}'.format(epoch))\n",
    "            \n",
    "            # Shuffle training part\n",
    "            np.random.shuffle(data_train)\n",
    "            X_train = data_train[:,:-1]\n",
    "            Y_train = np.atleast_2d(data_train[:,-1]).T\n",
    "\n",
    "            squared_error = 0\n",
    "            for i in range(X_train.shape[0]):\n",
    "                # Predict\n",
    "                X = np.concatenate(([-1], X_train[i,:]), axis=0) # Add bias\n",
    "                Ui = np.dot(WW, X) # Predict based on weights matrix\n",
    "                # Calculate error\n",
    "                error = Y_train[i,:] - Ui # Error\n",
    "                squared_error += 0.5*np.sum(np.power(error,2)) # sum of squared errors\n",
    "                WW += l_rate*np.dot(np.atleast_2d(error).T,np.atleast_2d(X)) # Weights matrix adjustment\n",
    "\n",
    "            squared_error_epochs.append(squared_error/X_train.shape[0]) # Learning Curve\n",
    "\n",
    "        ### Generalization\n",
    "        X_test = data_test[:,:-1]\n",
    "        Y_test = np.atleast_2d(data_test[:,-1]).T\n",
    "\n",
    "        squared_error = 0\n",
    "        predicts = []\n",
    "        for i in range(X_test.shape[0]):\n",
    "            # Hidden layer\n",
    "            X = np.concatenate(([-1], X_test[i,:]), axis=0) # Add bias\n",
    "            Ui = np.matmul(WW, X) # Predict based on weights matrix\n",
    "            predicts.append(Ui)\n",
    "            # Calculate generalization error\n",
    "            error = Y_train[i,:] - Ui # Error\n",
    "            squared_error += 0.5*np.sum(error**2) # sum of squared errors\n",
    "        squared_error_tests = squared_error/X_test.shape[0];\n",
    "\n",
    "        correct = 0\n",
    "        for i in range(len(predicts)):\n",
    "            if abs(np.max(predicts[i])-Y_test[i,:])<0.5:\n",
    "                correct+=1\n",
    "            # confusion[prediction_label-1,label_test-1]+=1\n",
    "\n",
    "        # Recognition rate of r-th run\n",
    "        print(correct*100/N_test)\n",
    "        rates = np.append(rates, correct*100/N_test)\n",
    "    \n",
    "    ### Statistics\n",
    "    # Get stats for each class\n",
    "    def get_stats_each_class(confusion_matrix):\n",
    "        stats_class = np.array([])\n",
    "        lb = 0\n",
    "        for lb in range(K):\n",
    "            TP = confusion[lb,lb]\n",
    "            FP = np.sum(confusion[lb,:])-confusion[lb,lb]\n",
    "            FN = np.sum(confusion[:,lb])-confusion[lb,lb]\n",
    "            TN = np.sum(confusion) - TP - FP - FN\n",
    "            acc = (TP+TN)/(TP+TN+FP+FN)\n",
    "            f1_score = 2*TP/(2*TP+FP+FN)\n",
    "            stats_class = np.append(stats_class, {'acc': acc, 'f1_score': f1_score})\n",
    "        return stats_class\n",
    "\n",
    "    # Get geral stats\n",
    "    stats['name']        = name\n",
    "    stats['mean']        = np.mean(rates)\n",
    "    stats['std']         = np.std(rates)\n",
    "    stats['median']      = np.median(rates)\n",
    "    stats['min']         = np.min(rates)\n",
    "    stats['max']         = np.max(rates)\n",
    "    stats['confusion']   = confusion\n",
    "    stats['stats_class'] = get_stats_each_class(confusion)\n",
    "\n",
    "    if silent==False:\n",
    "        stats_msg = 'mean±std: {:.2f}±{:.2f} ||| median: {:.2f} ||| [min,max]: [{:.2f},{:.2f}]'.format(stats['mean'],stats['std'],stats['median'],stats['min'],stats['max'])\n",
    "        print(stats_msg)\n",
    "        if plot:\n",
    "            plt.boxplot(rates)\n",
    "            plt.suptitle('{}\\n{} rounds'.format(desc, n_runs))\n",
    "            plt.xlabel(stats_msg)\n",
    "            plt.show()\n",
    "\n",
    "    return stats\n",
    "\n",
    "AD_classifier(data)"
   ],
   "outputs": [
    {
     "output_type": "stream",
     "name": "stdout",
     "text": [
      "> Adaline (AD)\n",
      "> The problem has 2 classes\n",
      "loop 1\n",
      "Epoch: 1\n",
      "Epoch: 2\n",
      "Epoch: 3\n",
      "Epoch: 4\n",
      "Epoch: 5\n",
      "Epoch: 6\n",
      "Epoch: 7\n",
      "Epoch: 8\n",
      "Epoch: 9\n",
      "100.0\n",
      "loop 2\n",
      "Epoch: 1\n",
      "Epoch: 2\n",
      "Epoch: 3\n",
      "Epoch: 4\n",
      "Epoch: 5\n",
      "Epoch: 6\n",
      "Epoch: 7\n",
      "Epoch: 8\n",
      "Epoch: 9\n",
      "100.0\n",
      "loop 3\n",
      "Epoch: 1\n",
      "Epoch: 2\n",
      "Epoch: 3\n",
      "Epoch: 4\n",
      "Epoch: 5\n",
      "Epoch: 6\n",
      "Epoch: 7\n",
      "Epoch: 8\n",
      "Epoch: 9\n",
      "100.0\n",
      "loop 4\n",
      "Epoch: 1\n",
      "Epoch: 2\n",
      "Epoch: 3\n",
      "Epoch: 4\n",
      "Epoch: 5\n",
      "Epoch: 6\n",
      "Epoch: 7\n",
      "Epoch: 8\n",
      "Epoch: 9\n",
      "100.0\n",
      "loop 5\n",
      "Epoch: 1\n",
      "Epoch: 2\n",
      "Epoch: 3\n",
      "Epoch: 4\n",
      "Epoch: 5\n",
      "Epoch: 6\n",
      "Epoch: 7\n",
      "Epoch: 8\n",
      "Epoch: 9\n",
      "100.0\n",
      "loop 6\n",
      "Epoch: 1\n",
      "Epoch: 2\n",
      "Epoch: 3\n",
      "Epoch: 4\n",
      "Epoch: 5\n",
      "Epoch: 6\n",
      "Epoch: 7\n",
      "Epoch: 8\n",
      "Epoch: 9\n",
      "100.0\n",
      "loop 7\n",
      "Epoch: 1\n",
      "Epoch: 2\n",
      "Epoch: 3\n",
      "Epoch: 4\n",
      "Epoch: 5\n",
      "Epoch: 6\n",
      "Epoch: 7\n",
      "Epoch: 8\n",
      "Epoch: 9\n",
      "100.0\n",
      "loop 8\n",
      "Epoch: 1\n",
      "Epoch: 2\n",
      "Epoch: 3\n",
      "Epoch: 4\n",
      "Epoch: 5\n",
      "Epoch: 6\n",
      "Epoch: 7\n",
      "Epoch: 8\n",
      "Epoch: 9\n",
      "100.0\n",
      "loop 9\n",
      "Epoch: 1\n",
      "Epoch: 2\n",
      "Epoch: 3\n",
      "Epoch: 4\n",
      "Epoch: 5\n",
      "Epoch: 6\n",
      "Epoch: 7\n",
      "Epoch: 8\n",
      "Epoch: 9\n",
      "100.0\n",
      "loop 10\n",
      "Epoch: 1\n",
      "Epoch: 2\n",
      "Epoch: 3\n",
      "Epoch: 4\n",
      "Epoch: 5\n",
      "Epoch: 6\n",
      "Epoch: 7\n",
      "Epoch: 8\n",
      "Epoch: 9\n",
      "100.0\n",
      "mean±std: 100.00±0.00 ||| median: 100.00 ||| [min,max]: [100.00,100.00]\n"
     ]
    },
    {
     "output_type": "stream",
     "name": "stderr",
     "text": [
      "/var/folders/91/wbzn1hld0pg17bqf6r_lt1zw0000gn/T/ipykernel_23091/46064765.py:92: RuntimeWarning: invalid value encountered in double_scalars\n",
      "  acc = (TP+TN)/(TP+TN+FP+FN)\n",
      "/var/folders/91/wbzn1hld0pg17bqf6r_lt1zw0000gn/T/ipykernel_23091/46064765.py:93: RuntimeWarning: invalid value encountered in double_scalars\n",
      "  f1_score = 2*TP/(2*TP+FP+FN)\n"
     ]
    },
    {
     "output_type": "display_data",
     "data": {
      "image/png": "[encoded data removed]",
      "text/plain": [
       "<Figure size 432x288 with 1 Axes>"
      ]
     },
     "metadata": {
      "needs_background": "light"
     }
    },
    {
     "output_type": "execute_result",
     "data": {
      "text/plain": [
       "{'name': 'AD',\n",
       " 'mean': 100.0,\n",
       " 'std': 0.0,\n",
       " 'median': 100.0,\n",
       " 'min': 100.0,\n",
       " 'max': 100.0,\n",
       " 'confusion': array([[0., 0.],\n",
       "        [0., 0.]]),\n",
       " 'stats_class': array([{'acc': nan, 'f1_score': nan}, {'acc': nan, 'f1_score': nan}],\n",
       "       dtype=object)}"
      ]
     },
     "metadata": {},
     "execution_count": 73
    }
   ],
   "metadata": {}
  },
  {
   "cell_type": "code",
   "execution_count": null,
   "source": [
    "class Adaline(object):\n",
    "    def __init__(self, eta=0.05, n_iter=10, n_epoca=50):\n",
    "        self.eta = eta\n",
    "        self.n_iter = n_iter\n",
    "        self.n_epoca = n_epoca\n",
    "\n",
    "    def treinamento(self, X, y, s_treinamento=.8):\n",
    "        self.X = X\n",
    "        z = np.array(y)\n",
    "        self.Y = np.where(z == 0, -1,z)\n",
    "        self.Y = self.Y.reshape(self.Y.shape[0], 1)\n",
    "        self.size_terinamento = s_treinamento\n",
    "\n",
    "        size_total = self.X.shape[0]\n",
    "        size_treinamento = int(size_total * self.size_terinamento)\n",
    "\n",
    "        lista_posicoes = np.arange(size_total)\n",
    "        lista_embaralhada = np.copy(lista_posicoes)\n",
    "        np.random.shuffle(lista_embaralhada)\n",
    "\n",
    "        lista_treinamento = lista_embaralhada[:size_treinamento]\n",
    "        lista_teste = lista_embaralhada[size_treinamento:]\n",
    "\n",
    "        X_treina = self.X[lista_treinamento, :]\n",
    "        Y_treina = self.Y[lista_treinamento, :]\n",
    "\n",
    "        linha_X_treinamento, coluna_X_treinamento = X_treina.shape\n",
    "        linha_Y_treinamento, coluna_Y_treinamento = Y_treina.shape\n",
    "\n",
    "        X_teste = self.X[lista_teste, :]\n",
    "        Y_teste = self.Y[lista_teste, :]\n",
    "\n",
    "        linha_X_teste, coluna_X_teste = X_teste.shape\n",
    "        linha_Y_teste, coluna_Y_teste = Y_teste.shape\n",
    "\n",
    "        self.w_ = 0.1*np.random.rand(self.Y.shape[1], coluna_X_treinamento + 1)\n",
    "        self.EQM = []\n",
    "\n",
    "\n",
    "        for epoca in range(self.n_epoca):\n",
    "            print(epoca)\n",
    "            lista_epoca = np.arange(linha_X_treinamento)\n",
    "            np.random.shuffle(lista_epoca)\n",
    "            X_treina = self.X[lista_epoca, :]\n",
    "            Y_treina = self.Y[lista_epoca, :]\n",
    "\n",
    "            EQ = 0\n",
    "            for i in range(linha_X_treinamento):\n",
    "                xx = np.insert(X_treina[i, :], 0, -1, axis=0).reshape(coluna_X_treinamento+1,1)\n",
    "                Ui = self.predict(xx).flatten()\n",
    "\n",
    "                Ei = Y_treina[i,:] - Ui;\n",
    "                Ei =Ei.reshape(coluna_Y_treinamento, 1)\n",
    "                EQ = EQ + 0.5 * sum(np.power(Ei, 2))\n",
    "                self.w_ = self.w_+ (self.eta * np.dot(Ei, np.transpose(xx)))\n",
    "\n",
    "            self.EQM.append(EQ / linha_X_treinamento)\n",
    "\n",
    "        EQ2 = 0;\n",
    "        HID2 = [];\n",
    "        OUT2 = [];\n",
    "        for i in range(linha_X_teste):\n",
    "            xx = np.insert(X_teste[i, :], 0, -1, axis=0).reshape(coluna_X_teste + 1, 1)\n",
    "            Ui = self.predict(xx)\n",
    "            OUT2.append(Ui.flatten())\n",
    "\n",
    "            Ei = Y_teste[i, :] - Ui;\n",
    "            EQ2 = EQ2 + 0.5 * sum(np.power(Ei, 2))\n",
    "\n",
    "        EQM2 = EQ2 / linha_X_teste;\n",
    "\n",
    "        count_OK = 0\n",
    "        OUT2 = np.array(OUT2)\n",
    "        for i in range(linha_X_teste):\n",
    "            T2max, iT2max = Y_teste[i, :].max(), Y_teste[i, :].argmax()\n",
    "            OUT2_max, iOUT2_max = OUT2[i, :].max(), OUT2[i, :].argmax()\n",
    "            if iT2max == iOUT2_max:\n",
    "                count_OK = count_OK + 1\n",
    "\n",
    "        self.result = (100 * (count_OK / linha_X_teste))\n",
    "        return self\n",
    "\n",
    "    def net_input(self, X):\n",
    "        return np.dot(self.w_, X)\n",
    "\n",
    "    def predict(self, X):\n",
    "        return np.where(self.net_input(X) >= 0.0, 1, -1)\n",
    "\n",
    "\n",
    "if __name__ == \"__main__\":\n",
    "    X = data[:,:-1]\n",
    "    y = data[:,-1]\n",
    "    \n",
    "    res = []\n",
    "    for i in range(1):\n",
    "        print(\"Rodada: \"+ str(i))\n",
    "        adaline = Adaline(eta=0.35, n_epoca=10)\n",
    "        adaline.treinamento(X, y)\n",
    "        res.append(adaline.result)\n",
    "\n",
    "    res = np.array(res)\n",
    "    print(\"Média: \"+ str(res.mean()))\n",
    "    print(\"Mediana: \"+str(np.median(res)))\n",
    "    print(\"Maximo: \"+str(res.max()))\n",
    "    print(\"Minimo: \"+str(res.min()))\n",
    "    print(\"DevPadrao: \"+str(np.std(res)))"
   ],
   "outputs": [
    {
     "output_type": "stream",
     "name": "stdout",
     "text": [
      "Rodada: 0\n",
      "0\n",
      "1\n",
      "2\n",
      "3\n",
      "4\n",
      "5\n",
      "6\n",
      "7\n",
      "8\n",
      "9\n",
      "Média: 100.0\n",
      "Mediana: 100.0\n",
      "Maximo: 100.0\n",
      "Minimo: 100.0\n",
      "DevPadrao: 0.0\n"
     ]
    }
   ],
   "metadata": {}
  },
  {
   "cell_type": "markdown",
   "source": [
    "### PL - Perceptron Logístico"
   ],
   "metadata": {
    "tags": []
   }
  },
  {
   "cell_type": "code",
   "execution_count": 38,
   "source": [
    "def PL_classifier(data, n_runs=100, n_epochs=10, l_rate=0.01, p_train=0.8, silent=False, plot=True):\n",
    "    # Variables\n",
    "    name = 'PL'\n",
    "    desc = 'Perceptron Logistico (PL)'\n",
    "    if silent==False:\n",
    "        print('> {}'.format(desc))"
   ],
   "outputs": [],
   "metadata": {}
  },
  {
   "cell_type": "markdown",
   "source": [
    "### MLP - Multi-Layer Perceptron"
   ],
   "metadata": {}
  },
  {
   "cell_type": "code",
   "execution_count": null,
   "source": [
    "def MLP_classifier(data, n_runs=100, n_epochs=10, l_rate=0.01, p_train=0.8, silent=False, plot=True):\n",
    "    # Variables\n",
    "    name = 'MLP'\n",
    "    desc = 'Multi-Layer Perceptron (MLP)'\n",
    "    if silent==False:\n",
    "        print('> {}'.format(desc))"
   ],
   "outputs": [],
   "metadata": {}
  },
  {
   "cell_type": "markdown",
   "source": [
    "## Experiments"
   ],
   "metadata": {
    "jp-MarkdownHeadingCollapsed": true,
    "tags": []
   }
  },
  {
   "cell_type": "code",
   "execution_count": null,
   "source": [
    "# LMQ_classifier(data)\n",
    "# AD_classifier(data)\n",
    "# PL_classifier(data)\n",
    "# MLP_classifier(data)"
   ],
   "outputs": [
    {
     "output_type": "stream",
     "name": "stdout",
     "text": [
      "> Linear dos Mínimos Quadrados (LMQ)\n",
      "> The problem has 2 classes\n",
      "mean±std: 46.73±2.13 ||| median: 47.00 ||| [min,max]: [40.50,52.00]\n"
     ]
    },
    {
     "output_type": "display_data",
     "data": {
      "image/png": "[encoded data removed]",
      "text/plain": [
       "<Figure size 432x288 with 1 Axes>"
      ]
     },
     "metadata": {
      "needs_background": "light"
     }
    },
    {
     "output_type": "execute_result",
     "data": {
      "text/plain": [
       "{'name': 'LMQ',\n",
       " 'mean': 46.73,\n",
       " 'std': 2.1347365176995496,\n",
       " 'median': 47.0,\n",
       " 'min': 40.5,\n",
       " 'max': 52.0,\n",
       " 'confusion': array([[4669., 5268.],\n",
       "        [5386., 4677.]]),\n",
       " 'stats_class': array([{'acc': 0.4673, 'f1_score': 0.46708683473389356},\n",
       "        {'acc': 0.4673, 'f1_score': 0.4675129948020792}], dtype=object),\n",
       " 't_train': 33.042192459106445,\n",
       " 't_test': 44.2509651184082}"
      ]
     },
     "metadata": {},
     "execution_count": 35
    }
   ],
   "metadata": {}
  },
  {
   "cell_type": "code",
   "execution_count": null,
   "source": [],
   "outputs": [],
   "metadata": {}
  }
 ],
 "metadata": {
  "kernelspec": {
   "name": "python3",
   "display_name": "Python 3.9.7 64-bit ('.env': venv)"
  },
  "language_info": {
   "codemirror_mode": {
    "name": "ipython",
    "version": 3
   },
   "file_extension": ".py",
   "mimetype": "text/x-python",
   "name": "python",
   "nbconvert_exporter": "python",
   "pygments_lexer": "ipython3",
   "version": "3.9.7"
  },
  "interpreter": {
   "hash": "2fe2b7eb837201f85a3d869f17b1dad2aac96e56aa1cf0b8e1defe7913ff5e0b"
  }
 },
 "nbformat": 4,
 "nbformat_minor": 5
}